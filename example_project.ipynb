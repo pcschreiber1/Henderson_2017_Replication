{
 "cells": [
  {
   "cell_type": "markdown",
   "metadata": {},
   "source": [
    "--- \n",
    "Project for the course in Microeconometrics | Summer 2019, M.Sc. Economics, Bonn University | [Annica Gehlen](https://github.com/amageh)\n",
    "\n",
    "# Replication of Jason M. Lindo, Nicholas J.  Sanders & Philip Oreopoulos  (2010) <a class=\"tocSkip\">   \n",
    "---"
   ]
  },
  {
   "cell_type": "markdown",
   "metadata": {},
   "source": [
    "This notebook contains my replication of the results from the following paper:\n",
    "\n",
    "> Lindo, J. M., Sanders, N. J., & Oreopoulos, P. (2010). Ability, gender, and performance standards: Evidence from academic probation. American Economic Journal: Applied Economics, 2(2), 95-117.\n",
    "\n",
    "##### Downloading and viewing this notebook:\n",
    "\n",
    "* The best way to view this notebook is by downloading it and the repository it is located in from [GitHub](https://github.com/HumanCapitalAnalysis/template-course-project). Other viewing options like _MyBinder_ or _NBViewer_ may have issues with displaying images or coloring of certain parts (missing images can be viewed in the folder [files](https://github.com/HumanCapitalAnalysis/template-course-project/tree/master/files) on GitHub).\n",
    "\n",
    "\n",
    "* The original paper, as well as the data and code provided by the authors can be accessed [here](https://www.aeaweb.org/articles?id=10.1257/app.2.2.95).\n",
    "\n",
    "##### Information about replication and individual contributions:\n",
    "\n",
    "* For the replication, I try to remain true to the original structure of the paper so readers can easily follow along and compare. All tables and figures are named and labeled as they appear in Lindo et al. (2010).\n",
    "\n",
    "\n",
    "* The tables in my replication appear transposed compared to the original tables to suit my workflow in Python.\n",
    "\n",
    "\n",
    "* For transparency, all sections in the replication that constitute independent contributions by me and are not part of results presented (or include deviations from the methods used) in the paper are marked as _extensions_. "
   ]
  },
  {
   "cell_type": "markdown",
   "metadata": {
    "toc": true
   },
   "source": [
    "<h1>Table of Contents<span class=\"tocSkip\"></span></h1>\n",
    "<div class=\"toc\"><ul class=\"toc-item\"><li><span><a href=\"#1.-Introduction\" data-toc-modified-id=\"1.-Introduction-1\">1. Introduction</a></span></li><li><span><a href=\"#2.-Theoretical-Background\" data-toc-modified-id=\"2.-Theoretical-Background-2\">2. Theoretical Background</a></span></li><li><span><a href=\"#3.-Identification\" data-toc-modified-id=\"3.-Identification-3\">3. Identification</a></span></li><li><span><a href=\"#4.-Empirical-Strategy\" data-toc-modified-id=\"4.-Empirical-Strategy-4\">4. Empirical Strategy</a></span></li><li><span><a href=\"#5.-Replication-of-Lindo-et-al.-(2010)\" data-toc-modified-id=\"5.-Replication-of-Lindo-et-al.-(2010)-5\">5. Replication of Lindo et al. (2010)</a></span><ul class=\"toc-item\"><li><span><a href=\"#5.1.-Data-&amp;-Descriptive-Statistics\" data-toc-modified-id=\"5.1.-Data-&amp;-Descriptive-Statistics-5.1\">5.1. Data &amp; Descriptive Statistics</a></span></li><li><span><a href=\"#5.2.-Results\" data-toc-modified-id=\"5.2.-Results-5.2\">5.2. Results</a></span><ul class=\"toc-item\"><li><span><a href=\"#5.2.1.-Tests-of-the-Validity-of-the-RD-Approach\" data-toc-modified-id=\"5.2.1.-Tests-of-the-Validity-of-the-RD-Approach-5.2.1\">5.2.1. Tests of the Validity of the RD Approach</a></span></li><li><span><a href=\"#i.--Extension:-Visual-Validity-Check\" data-toc-modified-id=\"i.--Extension:-Visual-Validity-Check-5.2.2\">i.  Extension: Visual Validity Check</a></span></li><li><span><a href=\"#ii.-Advanced-Validity-Check\" data-toc-modified-id=\"ii.-Advanced-Validity-Check-5.2.3\">ii. Advanced Validity Check</a></span></li><li><span><a href=\"#5.2.2.-First-Year-GPAs-and-Academic-Probation\" data-toc-modified-id=\"5.2.2.-First-Year-GPAs-and-Academic-Probation-5.2.4\">5.2.2. First Year GPAs and Academic Probation</a></span></li><li><span><a href=\"#5.2.3.-The-Immediate-Response-to-Academic-Probation\" data-toc-modified-id=\"5.2.3.-The-Immediate-Response-to-Academic-Probation-5.2.5\">5.2.3. The Immediate Response to Academic Probation</a></span></li><li><span><a href=\"#5.2.4.-The-Impact-onSubsequent-Performance\" data-toc-modified-id=\"5.2.4.-The-Impact-onSubsequent-Performance-5.2.6\">5.2.4. The Impact onSubsequent Performance</a></span></li><li><span><a href=\"#i.-Main-Results-for-Impact-on-GPA-&amp;-Probability-of-Placing-Above-Cutoff-in-the-Next-Term\" data-toc-modified-id=\"i.-Main-Results-for-Impact-on-GPA-&amp;-Probability-of-Placing-Above-Cutoff-in-the-Next-Term-5.2.7\">i. Main Results for Impact on GPA &amp; Probability of Placing Above Cutoff in the Next Term</a></span></li><li><span><a href=\"#ii.-Formal-Bound-Analysis-on-Subsequent-GPA-(partial-extension)\" data-toc-modified-id=\"ii.-Formal-Bound-Analysis-on-Subsequent-GPA-(partial-extension)-5.2.8\">ii. Formal Bound Analysis on Subsequent GPA (partial extension)</a></span></li><li><span><a href=\"#5.2.5.-The-Impacts-on-Graduation\" data-toc-modified-id=\"5.2.5.-The-Impacts-on-Graduation-5.2.9\">5.2.5. The Impacts on Graduation</a></span></li></ul></li></ul></li><li><span><a href=\"#6.-Extension:-Robustness-Checks\" data-toc-modified-id=\"6.-Extension:-Robustness-Checks-6\">6. Extension: Robustness Checks</a></span><ul class=\"toc-item\"><li><span><a href=\"#6.1.--A-Closer-Look-at-Students'-Subsequent-Performance.\" data-toc-modified-id=\"6.1.--A-Closer-Look-at-Students'-Subsequent-Performance.-6.1\">6.1.  A Closer Look at Students' Subsequent Performance.</a></span><ul class=\"toc-item\"><li><span><a href=\"#6.1.1.-Subsequent-Performance-and-Total-Credits-in-Year-2\" data-toc-modified-id=\"6.1.1.-Subsequent-Performance-and-Total-Credits-in-Year-2-6.1.1\">6.1.1. Subsequent Performance and Total Credits in Year 2</a></span></li><li><span><a href=\"#6.1.2.-Subsequent-Cumulative-Grade-Point-Average-(CGPA)\" data-toc-modified-id=\"6.1.2.-Subsequent-Cumulative-Grade-Point-Average-(CGPA)-6.1.2\">6.1.2. Subsequent Cumulative Grade Point Average (CGPA)</a></span></li></ul></li><li><span><a href=\"#6.2.-Bandwidth-Sensitivity\" data-toc-modified-id=\"6.2.-Bandwidth-Sensitivity-6.2\">6.2. Bandwidth Sensitivity</a></span></li></ul></li><li><span><a href=\"#7.-Conclusion\" data-toc-modified-id=\"7.-Conclusion-7\">7. Conclusion</a></span></li><li><span><a href=\"#8.-References\" data-toc-modified-id=\"8.-References-8\">8. References</a></span></li></ul></div>"
   ]
  },
  {
   "cell_type": "code",
   "execution_count": 1,
   "metadata": {},
   "outputs": [],
   "source": [
    "%matplotlib inline\n",
    "import numpy as np\n",
    "import pandas as pd\n",
    "import pandas.io.formats.style\n",
    "import seaborn as sns\n",
    "import statsmodels as sm\n",
    "import statsmodels.formula.api as smf\n",
    "import statsmodels.api as sm_api\n",
    "import matplotlib as plt\n",
    "from IPython.display import HTML"
   ]
  },
  {
   "cell_type": "code",
   "execution_count": 2,
   "metadata": {
    "scrolled": true
   },
   "outputs": [],
   "source": [
    "from auxiliary.example_project_auxiliary_predictions import *\n",
    "from auxiliary.example_project_auxiliary_plots import *\n",
    "from auxiliary.example_project_auxiliary_tables import *"
   ]
  }
 ],
 "metadata": {
  "kernelspec": {
   "display_name": "Python 3",
   "language": "python",
   "name": "python3"
  },
  "language_info": {
   "codemirror_mode": {
    "name": "ipython",
    "version": 3
   },
   "file_extension": ".py",
   "mimetype": "text/x-python",
   "name": "python",
   "nbconvert_exporter": "python",
   "pygments_lexer": "ipython3",
   "version": "3.8.8"
  },
  "toc": {
   "base_numbering": 1,
   "nav_menu": {},
   "number_sections": false,
   "sideBar": true,
   "skip_h1_title": false,
   "title_cell": "Table of Contents",
   "title_sidebar": "Contents",
   "toc_cell": true,
   "toc_position": {
    "height": "622.641px",
    "left": "691px",
    "top": "110px",
    "width": "277.4px"
   },
   "toc_section_display": true,
   "toc_window_display": true
  },
  "varInspector": {
   "cols": {
    "lenName": 16,
    "lenType": 16,
    "lenVar": 40
   },
   "kernels_config": {
    "python": {
     "delete_cmd_postfix": "",
     "delete_cmd_prefix": "del ",
     "library": "var_list.py",
     "varRefreshCmd": "print(var_dic_list())"
    },
    "r": {
     "delete_cmd_postfix": ") ",
     "delete_cmd_prefix": "rm(",
     "library": "var_list.r",
     "varRefreshCmd": "cat(var_dic_list()) "
    }
   },
   "oldHeight": 189.73845400000002,
   "position": {
    "height": "478.719px",
    "left": "987.578px",
    "right": "20px",
    "top": "283.984px",
    "width": "717.172px"
   },
   "types_to_exclude": [
    "module",
    "function",
    "builtin_function_or_method",
    "instance",
    "_Feature"
   ],
   "varInspector_section_display": "block",
   "window_display": false
  }
 },
 "nbformat": 4,
 "nbformat_minor": 2
}
