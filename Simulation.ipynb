{
 "cells": [
  {
   "cell_type": "markdown",
   "source": [
    "---\n",
    "[Philipp Schreiber](https://github.com/pcschreiber1)\n",
    "\n",
    "# Simulation Study of spatial Average Treamtent Effect (ATE) estimation\n",
    "## For the replication of Henderson, Storeygard, Deichmann (2017)\n",
    "\n",
    "---"
   ],
   "metadata": {}
  },
  {
   "cell_type": "code",
   "execution_count": 1,
   "source": [
    "%matplotlib inline\r\n",
    "\r\n",
    "import pandas as pd\r\n",
    "import numpy as np\r\n",
    "import matplotlib.pyplot as plt\r\n",
    "import matplotlib.ticker\r\n",
    "import statsmodels.formula.api as smf\r\n",
    "import seaborn as sns\r\n",
    "\r\n",
    "#For spatial analysis\r\n",
    "import geopandas as gpd\r\n",
    "import shapely.geometry as geom\r\n",
    "import libpysal as lp #For spatial weights\r\n",
    "\r\n",
    "from pysal.viz import splot #exploratory analysis\r\n",
    "#from splot.esda import plot_moran #exploratory analysis\r\n",
    "from pysal.explore import esda #exploratory analysis\r\n",
    "from pysal.model import spreg #For spatial regression\r\n",
    "\r\n",
    "import os #for environmental variable\r\n",
    "\r\n",
    "pd.options.display.float_format = \"{:,.2f}\".format"
   ],
   "outputs": [],
   "metadata": {}
  },
  {
   "cell_type": "code",
   "execution_count": 2,
   "source": [
    "from auxiliary.data_import import *\r\n",
    "from auxiliary.plots import *\r\n",
    "from auxiliary.simulations import *"
   ],
   "outputs": [],
   "metadata": {}
  },
  {
   "cell_type": "markdown",
   "source": [
    "**Three simulation studies:**\r\n",
    "\r\n",
    " - SLX specification: $Y = WD\\gamma +  X \\beta + u $ where $W$ is the weight matrix and $\\gamma=0.25$, $\\beta = 0.5$\r\n",
    " \r\n",
    " - Spatial Lag specification: $Y = WY \\rho +   D\\gamma +  X \\beta + u $ where $W$ is the weight matrix and $\\gamma=0.25$, $\\beta = 0.5$, $\\rho = 0.05$.\r\n",
    " \r\n",
    " - SDM specification: $Y = WY \\rho +   WD\\gamma +  X \\beta + u $ where $W$ is the weight matrix and $\\gamma=0.25$, $\\beta = 0.5$, $\\rho = 0.05$.\r\n",
    " \r\n",
    " - Backdoor specification: $Y = WY \\rho +   D\\gamma +  X \\beta + u $ and $D = WD$ where $W$ is the weight matrix and $\\gamma=0.25$, $\\beta = 0.5$, $\\rho = 0.05$.\r\n",
    " \r\n",
    "We compare true ATE, non-spatial estimate and spatial estimate for three different sample sizes:\r\n",
    "   - Simple: One simulation with $n=100$\r\n",
    "   - Small: $100$ simulations with $n=100$\r\n",
    "   - Large: $100$ simulations with $n=2.500$ (for SLX $100$ simulations with $n=10.000$)\r\n",
    "   \r\n",
    "Further details: the weight matrix $W$ is generated using a knn=10 nearest neighbour approach.\r\n",
    "\r\n",
    "<span style=\"color:orange\">**NOTE**:</span> For the sake of enabling continous integration, the simulation sizes for the CI run have been reduced to a smaller sample size. The results of the proper run have been stored in the data folder.\r\n",
    "\r\n",
    "---"
   ],
   "metadata": {}
  },
  {
   "cell_type": "markdown",
   "source": [
    "**SLX Simulation**"
   ],
   "metadata": {}
  },
  {
   "cell_type": "code",
   "execution_count": 94,
   "source": [
    "np.random.seed(2021)\r\n",
    "if os.environ.get(\"CI\") == \"true\":\r\n",
    "    # define the number of simulations and number of observations to be simulated\r\n",
    "    n_sims = [1]#, 100, 100]\r\n",
    "    n_obs = [100]#, 100, 10000]\r\n",
    "\r\n",
    "else:\r\n",
    "    # define the number of simulations and number of observations to be simulated\r\n",
    "    n_sims = [1, 100, 100]\r\n",
    "    n_obs = [100, 100, 10000]\r\n",
    "\r\n",
    "# initialize the container\r\n",
    "columns = [\"Sim1\", \"Sim2\", \"Sim3\"]\r\n",
    "df = pd.DataFrame(columns=columns, index=[\"ATE\", \"Non-spatial\", \"spatial\"])\r\n",
    "\r\n",
    "\r\n",
    "for _, n in enumerate(n_sims):\r\n",
    "    \r\n",
    "    #initialize containers\r\n",
    "    ATE = np.empty((n_sims[_],1))\r\n",
    "    Nspat = np.empty((n_sims[_],1))\r\n",
    "    Spat = np.empty((n_sims[_],1))\r\n",
    "    \r\n",
    "    for j in range(0, n):\r\n",
    "        data, w = simulate_SLX_sample(n_obs[_])\r\n",
    "        # calculate values\r\n",
    "        ate_true = data[\"Y_1\"].sub(data[\"Y_0\"]).mean()\r\n",
    "        nonspatial_ols = smf.ols(\"Y ~ X + D\", data=data).fit().params[2]\r\n",
    "        spatial_ols = smf.ols(\"Y ~ X + D + WD\", data=data).fit().params[2]\r\n",
    "                   \r\n",
    "        \r\n",
    "        #store in container\r\n",
    "        ATE[j] = ate_true\r\n",
    "        Nspat[j] = nonspatial_ols\r\n",
    "        Spat[j] = spatial_ols\r\n",
    "\r\n",
    "    #save in dataframe\r\n",
    "    df.loc[:, columns[_]] = [np.mean(ATE), np.mean(Nspat), np.mean(Spat)]\r\n"
   ],
   "outputs": [],
   "metadata": {}
  },
  {
   "cell_type": "code",
   "execution_count": 95,
   "source": [
    "df.head()"
   ],
   "outputs": [
    {
     "output_type": "execute_result",
     "data": {
      "text/plain": [
       "             Sim1  Sim2  Sim3\n",
       "ATE          0.25  0.25  0.25\n",
       "Non-spatial  0.55  0.24  0.24\n",
       "spatial      0.25  0.25  0.25"
      ],
      "text/html": [
       "<div>\n",
       "<style scoped>\n",
       "    .dataframe tbody tr th:only-of-type {\n",
       "        vertical-align: middle;\n",
       "    }\n",
       "\n",
       "    .dataframe tbody tr th {\n",
       "        vertical-align: top;\n",
       "    }\n",
       "\n",
       "    .dataframe thead th {\n",
       "        text-align: right;\n",
       "    }\n",
       "</style>\n",
       "<table border=\"1\" class=\"dataframe\">\n",
       "  <thead>\n",
       "    <tr style=\"text-align: right;\">\n",
       "      <th></th>\n",
       "      <th>Sim1</th>\n",
       "      <th>Sim2</th>\n",
       "      <th>Sim3</th>\n",
       "    </tr>\n",
       "  </thead>\n",
       "  <tbody>\n",
       "    <tr>\n",
       "      <th>ATE</th>\n",
       "      <td>0.25</td>\n",
       "      <td>0.25</td>\n",
       "      <td>0.25</td>\n",
       "    </tr>\n",
       "    <tr>\n",
       "      <th>Non-spatial</th>\n",
       "      <td>0.55</td>\n",
       "      <td>0.24</td>\n",
       "      <td>0.24</td>\n",
       "    </tr>\n",
       "    <tr>\n",
       "      <th>spatial</th>\n",
       "      <td>0.25</td>\n",
       "      <td>0.25</td>\n",
       "      <td>0.25</td>\n",
       "    </tr>\n",
       "  </tbody>\n",
       "</table>\n",
       "</div>"
      ]
     },
     "metadata": {},
     "execution_count": 95
    }
   ],
   "metadata": {}
  },
  {
   "cell_type": "code",
   "execution_count": 41,
   "source": [
    "# df.to_csv(\"data/SLX_sim.csv\") #current file is with 10000 simulations"
   ],
   "outputs": [],
   "metadata": {}
  },
  {
   "cell_type": "markdown",
   "source": [
    "**Spatial Lag Simulation**"
   ],
   "metadata": {}
  },
  {
   "cell_type": "code",
   "execution_count": 12,
   "source": [
    "# Spatial lag model\r\n",
    "\r\n",
    "np.random.seed(123)\r\n",
    "\r\n",
    "if os.environ.get(\"CI\") == \"true\":\r\n",
    "    n_sims = [1]#, 100, 100]\r\n",
    "    n_obs = [100]#, 100, 2500]\r\n",
    "else:\r\n",
    "    n_sims = [1, 100, 100]\r\n",
    "    n_obs = [100, 100, 2500]\r\n",
    "\r\n",
    "\r\n",
    "columns = [\"Sim1\", \"Sim2\", \"Sim3\"]\r\n",
    "df = pd.DataFrame(columns=columns, index=[\"ATE\", \"Non-spatial\", \"spatial\"])\r\n",
    "\r\n",
    "\r\n",
    "for _, n in enumerate(n_sims):\r\n",
    "    \r\n",
    "    #initialize containers\r\n",
    "    ATE = np.empty((n_sims[_],1))\r\n",
    "    Nspat = np.empty((n_sims[_],1))\r\n",
    "    Spat = np.empty((n_sims[_],1))\r\n",
    "    \r\n",
    "    for j in range(0, n):\r\n",
    "        data, w = simulate_SpatialLag_sample(n_obs[_])\r\n",
    "        # calculate values\r\n",
    "        ate_true = data[\"Y_1\"].sub(data[\"Y_0\"]).mean()\r\n",
    "        nonspatial_ols = smf.ols(\"Y ~ X + D\", data=data).fit().params[2]\r\n",
    "        #spatial 2 stage\r\n",
    "        # preparing data for pysal spreg\r\n",
    "        y = data[\"Y\"].to_numpy()\r\n",
    "        y = np.reshape(y, (y.size, 1))\r\n",
    "        \r\n",
    "        X = []\r\n",
    "        X.append(data[\"X\"].to_numpy())\r\n",
    "        X.append(data[\"D\"].to_numpy())\r\n",
    "        X = np.array(X).T\r\n",
    "        \r\n",
    "        #row standardize matrix\r\n",
    "        w.transform = 'r'\r\n",
    "        \r\n",
    "        #two-stage regression\r\n",
    "        #reg = spreg.ML_Lag(y, X, w=w,name_x=['X', 'D'], epsilon=1e-07, name_y='Y',name_ds='simulation')\r\n",
    "        reg = spreg.GM_Lag(y, X, w=w,w_lags=1, name_y='Y', name_x=['X', 'D'])\r\n",
    "        spatial_2stage = reg.betas[2][0]\r\n",
    "        \r\n",
    "        #store in container\r\n",
    "        ATE[j] = ate_true\r\n",
    "        Nspat[j] = nonspatial_ols\r\n",
    "        Spat[j] = spatial_2stage\r\n",
    "\r\n",
    "    #save in dataframe\r\n",
    "    df.loc[:, columns[_]] = [np.mean(ATE), np.mean(Nspat), np.mean(Spat)]"
   ],
   "outputs": [],
   "metadata": {}
  },
  {
   "cell_type": "code",
   "execution_count": 14,
   "source": [
    "# df.to_csv(\"data/Spatial_Lag_sim.csv\")"
   ],
   "outputs": [],
   "metadata": {}
  },
  {
   "cell_type": "code",
   "execution_count": 13,
   "source": [
    "df.head()"
   ],
   "outputs": [
    {
     "output_type": "execute_result",
     "data": {
      "text/plain": [
       "             Sim1  Sim2  Sim3\n",
       "ATE          0.25  0.25  0.25\n",
       "Non-spatial  0.27  0.26  0.26\n",
       "spatial      0.25  0.25  0.25"
      ],
      "text/html": [
       "<div>\n",
       "<style scoped>\n",
       "    .dataframe tbody tr th:only-of-type {\n",
       "        vertical-align: middle;\n",
       "    }\n",
       "\n",
       "    .dataframe tbody tr th {\n",
       "        vertical-align: top;\n",
       "    }\n",
       "\n",
       "    .dataframe thead th {\n",
       "        text-align: right;\n",
       "    }\n",
       "</style>\n",
       "<table border=\"1\" class=\"dataframe\">\n",
       "  <thead>\n",
       "    <tr style=\"text-align: right;\">\n",
       "      <th></th>\n",
       "      <th>Sim1</th>\n",
       "      <th>Sim2</th>\n",
       "      <th>Sim3</th>\n",
       "    </tr>\n",
       "  </thead>\n",
       "  <tbody>\n",
       "    <tr>\n",
       "      <th>ATE</th>\n",
       "      <td>0.25</td>\n",
       "      <td>0.25</td>\n",
       "      <td>0.25</td>\n",
       "    </tr>\n",
       "    <tr>\n",
       "      <th>Non-spatial</th>\n",
       "      <td>0.27</td>\n",
       "      <td>0.26</td>\n",
       "      <td>0.26</td>\n",
       "    </tr>\n",
       "    <tr>\n",
       "      <th>spatial</th>\n",
       "      <td>0.25</td>\n",
       "      <td>0.25</td>\n",
       "      <td>0.25</td>\n",
       "    </tr>\n",
       "  </tbody>\n",
       "</table>\n",
       "</div>"
      ]
     },
     "metadata": {},
     "execution_count": 13
    }
   ],
   "metadata": {}
  },
  {
   "cell_type": "markdown",
   "source": [
    "**SDM Simulation**"
   ],
   "metadata": {}
  },
  {
   "cell_type": "code",
   "execution_count": 58,
   "source": [
    "np.random.seed(123)\r\n",
    "\r\n",
    "if os.environ.get(\"CI\") == \"true\":\r\n",
    "    n_sims = [1]#, 100, 100]\r\n",
    "    n_obs = [100]#, 100, 2500]\r\n",
    "else:\r\n",
    "    n_sims = [1, 100, 100]\r\n",
    "    n_obs = [100, 100, 2500]\r\n",
    "\r\n",
    "columns = [\"Sim1\", \"Sim2\", \"Sim3\"]\r\n",
    "df = pd.DataFrame(columns=columns, index=[\"ATE\", \"Non-spatial\", \"spatial\"])\r\n",
    "\r\n",
    "\r\n",
    "for _, n in enumerate(n_sims):\r\n",
    "    \r\n",
    "    #initialize containers\r\n",
    "    ATE = np.empty((n_sims[_],1))\r\n",
    "    Nspat = np.empty((n_sims[_],1))\r\n",
    "    Spat = np.empty((n_sims[_],1))\r\n",
    "    \r\n",
    "    for j in range(0, n):\r\n",
    "        data, w = simulate_SDM_sample(n_obs[_])\r\n",
    "        # calculate values\r\n",
    "        ate_true = data[\"Y_1\"].sub(data[\"Y_0\"]).mean()\r\n",
    "        nonspatial_ols = smf.ols(\"Y ~ X + D\", data=data).fit().params[2]\r\n",
    "        #spatial 2 stage\r\n",
    "        # preparing data for pysal spreg\r\n",
    "        y = data[\"Y\"].to_numpy()\r\n",
    "        y = np.reshape(y, (y.size, 1))\r\n",
    "        \r\n",
    "        X = []\r\n",
    "        X.append(data[\"X\"].to_numpy())\r\n",
    "        X.append(data[\"D\"].to_numpy())\r\n",
    "        X.append(data[\"WD\"].to_numpy())\r\n",
    "        X = np.array(X).T\r\n",
    "        \r\n",
    "        #row standardize matrix\r\n",
    "        w.transform = 'r'\r\n",
    "        \r\n",
    "        #two-stage regression\r\n",
    "        reg = spreg.GM_Lag(y, X, w=w,w_lags=1, name_x=['X', 'D', 'WD'], name_y='Y',name_ds='simulation')\r\n",
    "        spatial_2stage = reg.betas[2][0]\r\n",
    "        \r\n",
    "        #store in container\r\n",
    "        ATE[j] = ate_true\r\n",
    "        Nspat[j] = nonspatial_ols\r\n",
    "        Spat[j] = spatial_2stage\r\n",
    "\r\n",
    "    #save in dataframe\r\n",
    "    df.loc[:, columns[_]] = [np.mean(ATE), np.mean(Nspat), np.mean(Spat)]"
   ],
   "outputs": [],
   "metadata": {}
  },
  {
   "cell_type": "code",
   "execution_count": 59,
   "source": [
    "df.head()"
   ],
   "outputs": [
    {
     "output_type": "execute_result",
     "data": {
      "text/plain": [
       "             Sim1  Sim2  Sim3\n",
       "ATE          0.25  0.25  0.25\n",
       "Non-spatial  0.36  0.34  0.41\n",
       "spatial      0.25  0.25  0.25"
      ],
      "text/html": [
       "<div>\n",
       "<style scoped>\n",
       "    .dataframe tbody tr th:only-of-type {\n",
       "        vertical-align: middle;\n",
       "    }\n",
       "\n",
       "    .dataframe tbody tr th {\n",
       "        vertical-align: top;\n",
       "    }\n",
       "\n",
       "    .dataframe thead th {\n",
       "        text-align: right;\n",
       "    }\n",
       "</style>\n",
       "<table border=\"1\" class=\"dataframe\">\n",
       "  <thead>\n",
       "    <tr style=\"text-align: right;\">\n",
       "      <th></th>\n",
       "      <th>Sim1</th>\n",
       "      <th>Sim2</th>\n",
       "      <th>Sim3</th>\n",
       "    </tr>\n",
       "  </thead>\n",
       "  <tbody>\n",
       "    <tr>\n",
       "      <th>ATE</th>\n",
       "      <td>0.25</td>\n",
       "      <td>0.25</td>\n",
       "      <td>0.25</td>\n",
       "    </tr>\n",
       "    <tr>\n",
       "      <th>Non-spatial</th>\n",
       "      <td>0.36</td>\n",
       "      <td>0.34</td>\n",
       "      <td>0.41</td>\n",
       "    </tr>\n",
       "    <tr>\n",
       "      <th>spatial</th>\n",
       "      <td>0.25</td>\n",
       "      <td>0.25</td>\n",
       "      <td>0.25</td>\n",
       "    </tr>\n",
       "  </tbody>\n",
       "</table>\n",
       "</div>"
      ]
     },
     "metadata": {},
     "execution_count": 59
    }
   ],
   "metadata": {}
  },
  {
   "cell_type": "code",
   "execution_count": 60,
   "source": [
    "# df.to_csv(\"data/SDM_sim.csv\")"
   ],
   "outputs": [],
   "metadata": {}
  },
  {
   "cell_type": "markdown",
   "source": [
    "**Backdoor Specification**"
   ],
   "metadata": {}
  },
  {
   "cell_type": "code",
   "execution_count": 140,
   "source": [
    "np.random.seed(123)\r\n",
    "\r\n",
    "if os.environ.get(\"CI\") == \"true\":\r\n",
    "    n_sims = [1]#, 100, 100]\r\n",
    "    n_obs = [100]#, 100, 2500]\r\n",
    "else:\r\n",
    "    n_sims = [1, 100, 100]\r\n",
    "    n_obs = [100, 100, 2500]\r\n",
    "\r\n",
    "columns = [\"Sim1\", \"Sim2\", \"Sim3\"]\r\n",
    "df = pd.DataFrame(columns=columns, index=[\"ATE\", \"Non-spatial\", \"spatial\"])\r\n",
    "\r\n",
    "\r\n",
    "for _, n in enumerate(n_sims):\r\n",
    "    \r\n",
    "    #initialize containers\r\n",
    "    ATE = np.empty((n_sims[_],1))\r\n",
    "    Nspat = np.empty((n_sims[_],1))\r\n",
    "    Spat = np.empty((n_sims[_],1))\r\n",
    "    \r\n",
    "    for j in range(0, n):\r\n",
    "        data, w = simulate_backdoor_sample(n_obs[_])\r\n",
    "        # calculate values\r\n",
    "        ate_true = data[\"Y_1\"].sub(data[\"Y_0\"]).mean()\r\n",
    "        nonspatial_ols = smf.ols(\"Y ~ X + D\", data=data).fit().params[2]\r\n",
    "        #spatial 2 stage\r\n",
    "        # preparing data for pysal spreg\r\n",
    "        y = data[\"Y\"].to_numpy()\r\n",
    "        y = np.reshape(y, (y.size, 1))\r\n",
    "        \r\n",
    "        X = []\r\n",
    "        X.append(data[\"X\"].to_numpy())\r\n",
    "        X.append(data[\"D\"].to_numpy())\r\n",
    "        X.append(data[\"WD\"].to_numpy())\r\n",
    "        X = np.array(X).T\r\n",
    "        \r\n",
    "        #row standardize matrix\r\n",
    "        w.transform = 'r'\r\n",
    "        \r\n",
    "        #two-stage regression\r\n",
    "        reg = spreg.GM_Lag(y, X, w=w,w_lags=1, name_x=['X', 'D', 'WD'], name_y='Y',name_ds='simulation')\r\n",
    "        spatial_2stage = reg.betas[2][0]\r\n",
    "        \r\n",
    "        #store in container\r\n",
    "        ATE[j] = ate_true\r\n",
    "        Nspat[j] = nonspatial_ols\r\n",
    "        Spat[j] = spatial_2stage\r\n",
    "\r\n",
    "    #save in dataframe\r\n",
    "    df.loc[:, columns[_]] = [np.mean(ATE), np.mean(Nspat), np.mean(Spat)]"
   ],
   "outputs": [],
   "metadata": {}
  },
  {
   "cell_type": "code",
   "execution_count": 141,
   "source": [
    "df.head()"
   ],
   "outputs": [
    {
     "output_type": "execute_result",
     "data": {
      "text/plain": [
       "             Sim1  Sim2  Sim3\n",
       "ATE          0.25  0.25  0.25\n",
       "Non-spatial  0.30  0.41  0.41\n",
       "spatial      0.25  0.25  0.25"
      ],
      "text/html": [
       "<div>\n",
       "<style scoped>\n",
       "    .dataframe tbody tr th:only-of-type {\n",
       "        vertical-align: middle;\n",
       "    }\n",
       "\n",
       "    .dataframe tbody tr th {\n",
       "        vertical-align: top;\n",
       "    }\n",
       "\n",
       "    .dataframe thead th {\n",
       "        text-align: right;\n",
       "    }\n",
       "</style>\n",
       "<table border=\"1\" class=\"dataframe\">\n",
       "  <thead>\n",
       "    <tr style=\"text-align: right;\">\n",
       "      <th></th>\n",
       "      <th>Sim1</th>\n",
       "      <th>Sim2</th>\n",
       "      <th>Sim3</th>\n",
       "    </tr>\n",
       "  </thead>\n",
       "  <tbody>\n",
       "    <tr>\n",
       "      <th>ATE</th>\n",
       "      <td>0.25</td>\n",
       "      <td>0.25</td>\n",
       "      <td>0.25</td>\n",
       "    </tr>\n",
       "    <tr>\n",
       "      <th>Non-spatial</th>\n",
       "      <td>0.30</td>\n",
       "      <td>0.41</td>\n",
       "      <td>0.41</td>\n",
       "    </tr>\n",
       "    <tr>\n",
       "      <th>spatial</th>\n",
       "      <td>0.25</td>\n",
       "      <td>0.25</td>\n",
       "      <td>0.25</td>\n",
       "    </tr>\n",
       "  </tbody>\n",
       "</table>\n",
       "</div>"
      ]
     },
     "metadata": {},
     "execution_count": 141
    }
   ],
   "metadata": {}
  },
  {
   "cell_type": "code",
   "execution_count": 142,
   "source": [
    "# df.to_csv(\"data/backdoor_sim.csv\")"
   ],
   "outputs": [],
   "metadata": {}
  }
 ],
 "metadata": {
  "kernelspec": {
   "name": "python3",
   "display_name": "Python 3.8.10 64-bit ('geo_env': conda)"
  },
  "language_info": {
   "codemirror_mode": {
    "name": "ipython",
    "version": 3
   },
   "file_extension": ".py",
   "mimetype": "text/x-python",
   "name": "python",
   "nbconvert_exporter": "python",
   "pygments_lexer": "ipython3",
   "version": "3.8.10"
  },
  "interpreter": {
   "hash": "dabcc5121dedba08d2bc6b43cc75e749f8a396cfef531a2439eeae4e9fe34189"
  }
 },
 "nbformat": 4,
 "nbformat_minor": 5
}