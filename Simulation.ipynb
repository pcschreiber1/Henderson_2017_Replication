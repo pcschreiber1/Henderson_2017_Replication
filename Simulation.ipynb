{
 "cells": [
  {
   "cell_type": "markdown",
   "id": "8365fc37",
   "metadata": {},
   "source": [
    "---\n",
    "[Philipp Schreiber](https://github.com/pcschreiber1)\n",
    "\n",
    "# Simulation Study of spatial Average Treamtent Effect (ATE) estimation\n",
    "## For the replication of Henderson, Storeygard, Deichmann (2017)\n",
    "\n",
    "---"
   ]
  },
  {
   "cell_type": "code",
   "execution_count": 2,
   "id": "c2350a67",
   "metadata": {},
   "outputs": [],
   "source": [
    "%matplotlib inline\n",
    "\n",
    "import pandas as pd\n",
    "import numpy as np\n",
    "import matplotlib.pyplot as plt\n",
    "import matplotlib.ticker\n",
    "import statsmodels.formula.api as smf\n",
    "import seaborn as sns\n",
    "\n",
    "#For spatial analysis\n",
    "import geopandas as gpd\n",
    "import shapely.geometry as geom\n",
    "import libpysal as lp #For spatial weights\n",
    "\n",
    "from pysal.viz import splot #exploratory analysis\n",
    "#from splot.esda import plot_moran #exploratory analysis\n",
    "from pysal.explore import esda #exploratory analysis\n",
    "from pysal.model import spreg #For spatial regression\n",
    "\n",
    "pd.options.display.float_format = \"{:,.2f}\".format"
   ]
  },
  {
   "cell_type": "code",
   "execution_count": 3,
   "id": "57611fe1",
   "metadata": {},
   "outputs": [],
   "source": [
    "from auxiliary.data_import import *\n",
    "from auxiliary.plots import *\n",
    "from auxiliary.simulations import *"
   ]
  },
  {
   "cell_type": "markdown",
   "id": "a632c2ed",
   "metadata": {},
   "source": [
    "**Three simulation studies:**\n",
    "\n",
    " - SLX specification: $Y = WD\\gamma +  X \\beta + u $ where $W$ is the weight matrix and $\\gamma=0.25$, $\\beta = 0.5$\n",
    " \n",
    " - Spatial Lag specification: $Y = WY \\rho +   D\\gamma +  X \\beta + u $ where $W$ is the weight matrix and $\\gamma=0.25$, $\\beta = 0.5$, $\\rho = 0.05$.\n",
    " \n",
    " - SDM specification: $Y = WY \\rho +   WD\\gamma +  X \\beta + u $ where $W$ is the weight matrix and $\\gamma=0.25$, $\\beta = 0.5$, $\\rho = 0.05$.\n",
    " \n",
    " - Backdoor specification: $Y = WY \\rho +   D\\gamma +  X \\beta + u $ and $D = WD$ where $W$ is the weight matrix and $\\gamma=0.25$, $\\beta = 0.5$, $\\rho = 0.05$.\n",
    " \n",
    "We compare true ATE, non-spatial estimate and spatial estimate for three different sample sizes:\n",
    "   - Simple: One simulation with $n=100$\n",
    "   - Small: $100$ simulations with $n=100$\n",
    "   - Large: $100$ simulations with $n=2.500$ (for SLX $100$ simulations with $n=10.000$)\n",
    "   \n",
    "Further details: the weight matrix $W$ is generated using a knn=10 nearest neighbour approach."
   ]
  },
  {
   "cell_type": "markdown",
   "id": "f3c48236",
   "metadata": {},
   "source": [
    "**SLX Simulation**"
   ]
  },
  {
   "cell_type": "code",
   "execution_count": 94,
   "id": "b8e8f39d",
   "metadata": {},
   "outputs": [],
   "source": [
    "np.random.seed(2021)\n",
    "\n",
    "# define the number of simulations and number of observations to be simulated\n",
    "n_sims = [1, 100, 100]\n",
    "n_obs = [100, 100, 10000]\n",
    "\n",
    "# initialize the container\n",
    "columns = [\"Sim1\", \"Sim2\", \"Sim3\"]\n",
    "df = pd.DataFrame(columns=columns, index=[\"ATE\", \"Non-spatial\", \"spatial\"])\n",
    "\n",
    "\n",
    "for _, n in enumerate(n_sims):\n",
    "    \n",
    "    #initialize containers\n",
    "    ATE = np.empty((n_sims[_],1))\n",
    "    Nspat = np.empty((n_sims[_],1))\n",
    "    Spat = np.empty((n_sims[_],1))\n",
    "    \n",
    "    for j in range(0, n):\n",
    "        data, w = simulate_SLX_sample(n_obs[_])\n",
    "        # calculate values\n",
    "        ate_true = data[\"Y_1\"].sub(data[\"Y_0\"]).mean()\n",
    "        nonspatial_ols = smf.ols(\"Y ~ X + D\", data=data).fit().params[2]\n",
    "        spatial_ols = smf.ols(\"Y ~ X + D + WD\", data=data).fit().params[2]\n",
    "                   \n",
    "        \n",
    "        #store in container\n",
    "        ATE[j] = ate_true\n",
    "        Nspat[j] = nonspatial_ols\n",
    "        Spat[j] = spatial_ols\n",
    "\n",
    "    #save in dataframe\n",
    "    df.loc[:, columns[_]] = [np.mean(ATE), np.mean(Nspat), np.mean(Spat)]\n"
   ]
  },
  {
   "cell_type": "code",
   "execution_count": 95,
   "id": "8970f842",
   "metadata": {},
   "outputs": [
    {
     "data": {
      "text/html": [
       "<div>\n",
       "<style scoped>\n",
       "    .dataframe tbody tr th:only-of-type {\n",
       "        vertical-align: middle;\n",
       "    }\n",
       "\n",
       "    .dataframe tbody tr th {\n",
       "        vertical-align: top;\n",
       "    }\n",
       "\n",
       "    .dataframe thead th {\n",
       "        text-align: right;\n",
       "    }\n",
       "</style>\n",
       "<table border=\"1\" class=\"dataframe\">\n",
       "  <thead>\n",
       "    <tr style=\"text-align: right;\">\n",
       "      <th></th>\n",
       "      <th>Sim1</th>\n",
       "      <th>Sim2</th>\n",
       "      <th>Sim3</th>\n",
       "    </tr>\n",
       "  </thead>\n",
       "  <tbody>\n",
       "    <tr>\n",
       "      <th>ATE</th>\n",
       "      <td>0.25</td>\n",
       "      <td>0.25</td>\n",
       "      <td>0.25</td>\n",
       "    </tr>\n",
       "    <tr>\n",
       "      <th>Non-spatial</th>\n",
       "      <td>0.55</td>\n",
       "      <td>0.24</td>\n",
       "      <td>0.24</td>\n",
       "    </tr>\n",
       "    <tr>\n",
       "      <th>spatial</th>\n",
       "      <td>0.25</td>\n",
       "      <td>0.25</td>\n",
       "      <td>0.25</td>\n",
       "    </tr>\n",
       "  </tbody>\n",
       "</table>\n",
       "</div>"
      ],
      "text/plain": [
       "             Sim1  Sim2  Sim3\n",
       "ATE          0.25  0.25  0.25\n",
       "Non-spatial  0.55  0.24  0.24\n",
       "spatial      0.25  0.25  0.25"
      ]
     },
     "execution_count": 95,
     "metadata": {},
     "output_type": "execute_result"
    }
   ],
   "source": [
    "df.head()"
   ]
  },
  {
   "cell_type": "code",
   "execution_count": 41,
   "id": "f44976db",
   "metadata": {},
   "outputs": [],
   "source": [
    "# df.to_csv(\"data/SLX_sim.csv\") #current file is with 10000 simulations"
   ]
  },
  {
   "cell_type": "markdown",
   "id": "2baf8d1d",
   "metadata": {},
   "source": [
    "**Spatial Lag Simulation**"
   ]
  },
  {
   "cell_type": "code",
   "execution_count": 12,
   "id": "9e72711b",
   "metadata": {},
   "outputs": [],
   "source": [
    "# Spatial lag model\n",
    "\n",
    "np.random.seed(123)\n",
    "\n",
    "n_sims = [1, 100, 100]\n",
    "n_obs = [100, 100, 2500]\n",
    "\n",
    "columns = [\"Sim1\", \"Sim2\", \"Sim3\"]\n",
    "df = pd.DataFrame(columns=columns, index=[\"ATE\", \"Non-spatial\", \"spatial\"])\n",
    "\n",
    "\n",
    "for _, n in enumerate(n_sims):\n",
    "    \n",
    "    #initialize containers\n",
    "    ATE = np.empty((n_sims[_],1))\n",
    "    Nspat = np.empty((n_sims[_],1))\n",
    "    Spat = np.empty((n_sims[_],1))\n",
    "    \n",
    "    for j in range(0, n):\n",
    "        data, w = simulate_SpatialLag_sample(n_obs[_])\n",
    "        # calculate values\n",
    "        ate_true = data[\"Y_1\"].sub(data[\"Y_0\"]).mean()\n",
    "        nonspatial_ols = smf.ols(\"Y ~ X + D\", data=data).fit().params[2]\n",
    "        #spatial 2 stage\n",
    "        # preparing data for pysal spreg\n",
    "        y = data[\"Y\"].to_numpy()\n",
    "        y = np.reshape(y, (y.size, 1))\n",
    "        \n",
    "        X = []\n",
    "        X.append(data[\"X\"].to_numpy())\n",
    "        X.append(data[\"D\"].to_numpy())\n",
    "        X = np.array(X).T\n",
    "        \n",
    "        #row standardize matrix\n",
    "        w.transform = 'r'\n",
    "        \n",
    "        #two-stage regression\n",
    "        #reg = spreg.ML_Lag(y, X, w=w,name_x=['X', 'D'], epsilon=1e-07, name_y='Y',name_ds='simulation')\n",
    "        reg = spreg.GM_Lag(y, X, w=w,w_lags=1, name_y='Y', name_x=['X', 'D'])\n",
    "        spatial_2stage = reg.betas[2][0]\n",
    "        \n",
    "        #store in container\n",
    "        ATE[j] = ate_true\n",
    "        Nspat[j] = nonspatial_ols\n",
    "        Spat[j] = spatial_2stage\n",
    "\n",
    "    #save in dataframe\n",
    "    df.loc[:, columns[_]] = [np.mean(ATE), np.mean(Nspat), np.mean(Spat)]"
   ]
  },
  {
   "cell_type": "code",
   "execution_count": 14,
   "id": "e1808df3",
   "metadata": {},
   "outputs": [],
   "source": [
    "# df.to_csv(\"data/Spatial_Lag_sim.csv\")"
   ]
  },
  {
   "cell_type": "code",
   "execution_count": 13,
   "id": "af165e69",
   "metadata": {},
   "outputs": [
    {
     "data": {
      "text/html": [
       "<div>\n",
       "<style scoped>\n",
       "    .dataframe tbody tr th:only-of-type {\n",
       "        vertical-align: middle;\n",
       "    }\n",
       "\n",
       "    .dataframe tbody tr th {\n",
       "        vertical-align: top;\n",
       "    }\n",
       "\n",
       "    .dataframe thead th {\n",
       "        text-align: right;\n",
       "    }\n",
       "</style>\n",
       "<table border=\"1\" class=\"dataframe\">\n",
       "  <thead>\n",
       "    <tr style=\"text-align: right;\">\n",
       "      <th></th>\n",
       "      <th>Sim1</th>\n",
       "      <th>Sim2</th>\n",
       "      <th>Sim3</th>\n",
       "    </tr>\n",
       "  </thead>\n",
       "  <tbody>\n",
       "    <tr>\n",
       "      <th>ATE</th>\n",
       "      <td>0.25</td>\n",
       "      <td>0.25</td>\n",
       "      <td>0.25</td>\n",
       "    </tr>\n",
       "    <tr>\n",
       "      <th>Non-spatial</th>\n",
       "      <td>0.27</td>\n",
       "      <td>0.26</td>\n",
       "      <td>0.26</td>\n",
       "    </tr>\n",
       "    <tr>\n",
       "      <th>spatial</th>\n",
       "      <td>0.25</td>\n",
       "      <td>0.25</td>\n",
       "      <td>0.25</td>\n",
       "    </tr>\n",
       "  </tbody>\n",
       "</table>\n",
       "</div>"
      ],
      "text/plain": [
       "             Sim1  Sim2  Sim3\n",
       "ATE          0.25  0.25  0.25\n",
       "Non-spatial  0.27  0.26  0.26\n",
       "spatial      0.25  0.25  0.25"
      ]
     },
     "execution_count": 13,
     "metadata": {},
     "output_type": "execute_result"
    }
   ],
   "source": [
    "df.head()"
   ]
  },
  {
   "cell_type": "markdown",
   "id": "9099c2f4",
   "metadata": {},
   "source": [
    "**SDM Simulation**"
   ]
  },
  {
   "cell_type": "code",
   "execution_count": 58,
   "id": "fbb5c0a3",
   "metadata": {},
   "outputs": [],
   "source": [
    "np.random.seed(123)\n",
    "\n",
    "n_sims = [1, 100, 100]\n",
    "n_obs = [100, 100, 2500]\n",
    "\n",
    "columns = [\"Sim1\", \"Sim2\", \"Sim3\"]\n",
    "df = pd.DataFrame(columns=columns, index=[\"ATE\", \"Non-spatial\", \"spatial\"])\n",
    "\n",
    "\n",
    "for _, n in enumerate(n_sims):\n",
    "    \n",
    "    #initialize containers\n",
    "    ATE = np.empty((n_sims[_],1))\n",
    "    Nspat = np.empty((n_sims[_],1))\n",
    "    Spat = np.empty((n_sims[_],1))\n",
    "    \n",
    "    for j in range(0, n):\n",
    "        data, w = simulate_SDM_sample(n_obs[_])\n",
    "        # calculate values\n",
    "        ate_true = data[\"Y_1\"].sub(data[\"Y_0\"]).mean()\n",
    "        nonspatial_ols = smf.ols(\"Y ~ X + D\", data=data).fit().params[2]\n",
    "        #spatial 2 stage\n",
    "        # preparing data for pysal spreg\n",
    "        y = data[\"Y\"].to_numpy()\n",
    "        y = np.reshape(y, (y.size, 1))\n",
    "        \n",
    "        X = []\n",
    "        X.append(data[\"X\"].to_numpy())\n",
    "        X.append(data[\"D\"].to_numpy())\n",
    "        X.append(data[\"WD\"].to_numpy())\n",
    "        X = np.array(X).T\n",
    "        \n",
    "        #row standardize matrix\n",
    "        w.transform = 'r'\n",
    "        \n",
    "        #two-stage regression\n",
    "        reg = spreg.GM_Lag(y, X, w=w,w_lags=1, name_x=['X', 'D', 'WD'], name_y='Y',name_ds='simulation')\n",
    "        spatial_2stage = reg.betas[2][0]\n",
    "        \n",
    "        #store in container\n",
    "        ATE[j] = ate_true\n",
    "        Nspat[j] = nonspatial_ols\n",
    "        Spat[j] = spatial_2stage\n",
    "\n",
    "    #save in dataframe\n",
    "    df.loc[:, columns[_]] = [np.mean(ATE), np.mean(Nspat), np.mean(Spat)]"
   ]
  },
  {
   "cell_type": "code",
   "execution_count": 59,
   "id": "6232202a",
   "metadata": {},
   "outputs": [
    {
     "data": {
      "text/html": [
       "<div>\n",
       "<style scoped>\n",
       "    .dataframe tbody tr th:only-of-type {\n",
       "        vertical-align: middle;\n",
       "    }\n",
       "\n",
       "    .dataframe tbody tr th {\n",
       "        vertical-align: top;\n",
       "    }\n",
       "\n",
       "    .dataframe thead th {\n",
       "        text-align: right;\n",
       "    }\n",
       "</style>\n",
       "<table border=\"1\" class=\"dataframe\">\n",
       "  <thead>\n",
       "    <tr style=\"text-align: right;\">\n",
       "      <th></th>\n",
       "      <th>Sim1</th>\n",
       "      <th>Sim2</th>\n",
       "      <th>Sim3</th>\n",
       "    </tr>\n",
       "  </thead>\n",
       "  <tbody>\n",
       "    <tr>\n",
       "      <th>ATE</th>\n",
       "      <td>0.25</td>\n",
       "      <td>0.25</td>\n",
       "      <td>0.25</td>\n",
       "    </tr>\n",
       "    <tr>\n",
       "      <th>Non-spatial</th>\n",
       "      <td>0.36</td>\n",
       "      <td>0.34</td>\n",
       "      <td>0.41</td>\n",
       "    </tr>\n",
       "    <tr>\n",
       "      <th>spatial</th>\n",
       "      <td>0.25</td>\n",
       "      <td>0.25</td>\n",
       "      <td>0.25</td>\n",
       "    </tr>\n",
       "  </tbody>\n",
       "</table>\n",
       "</div>"
      ],
      "text/plain": [
       "             Sim1  Sim2  Sim3\n",
       "ATE          0.25  0.25  0.25\n",
       "Non-spatial  0.36  0.34  0.41\n",
       "spatial      0.25  0.25  0.25"
      ]
     },
     "execution_count": 59,
     "metadata": {},
     "output_type": "execute_result"
    }
   ],
   "source": [
    "df.head()"
   ]
  },
  {
   "cell_type": "code",
   "execution_count": 60,
   "id": "24880027",
   "metadata": {},
   "outputs": [],
   "source": [
    "# df.to_csv(\"data/SDM_sim.csv\")"
   ]
  },
  {
   "cell_type": "markdown",
   "id": "aa5d122c",
   "metadata": {},
   "source": [
    "**Backdoor Specification**"
   ]
  },
  {
   "cell_type": "code",
   "execution_count": 140,
   "id": "fcdb9158",
   "metadata": {},
   "outputs": [],
   "source": [
    "np.random.seed(123)\n",
    "\n",
    "n_sims = [1, 100, 100]\n",
    "n_obs = [100, 100, 2500]\n",
    "\n",
    "columns = [\"Sim1\", \"Sim2\", \"Sim3\"]\n",
    "df = pd.DataFrame(columns=columns, index=[\"ATE\", \"Non-spatial\", \"spatial\"])\n",
    "\n",
    "\n",
    "for _, n in enumerate(n_sims):\n",
    "    \n",
    "    #initialize containers\n",
    "    ATE = np.empty((n_sims[_],1))\n",
    "    Nspat = np.empty((n_sims[_],1))\n",
    "    Spat = np.empty((n_sims[_],1))\n",
    "    \n",
    "    for j in range(0, n):\n",
    "        data, w = simulate_backdoor_sample(n_obs[_])\n",
    "        # calculate values\n",
    "        ate_true = data[\"Y_1\"].sub(data[\"Y_0\"]).mean()\n",
    "        nonspatial_ols = smf.ols(\"Y ~ X + D\", data=data).fit().params[2]\n",
    "        #spatial 2 stage\n",
    "        # preparing data for pysal spreg\n",
    "        y = data[\"Y\"].to_numpy()\n",
    "        y = np.reshape(y, (y.size, 1))\n",
    "        \n",
    "        X = []\n",
    "        X.append(data[\"X\"].to_numpy())\n",
    "        X.append(data[\"D\"].to_numpy())\n",
    "        X.append(data[\"WD\"].to_numpy())\n",
    "        X = np.array(X).T\n",
    "        \n",
    "        #row standardize matrix\n",
    "        w.transform = 'r'\n",
    "        \n",
    "        #two-stage regression\n",
    "        reg = spreg.GM_Lag(y, X, w=w,w_lags=1, name_x=['X', 'D', 'WD'], name_y='Y',name_ds='simulation')\n",
    "        spatial_2stage = reg.betas[2][0]\n",
    "        \n",
    "        #store in container\n",
    "        ATE[j] = ate_true\n",
    "        Nspat[j] = nonspatial_ols\n",
    "        Spat[j] = spatial_2stage\n",
    "\n",
    "    #save in dataframe\n",
    "    df.loc[:, columns[_]] = [np.mean(ATE), np.mean(Nspat), np.mean(Spat)]"
   ]
  },
  {
   "cell_type": "code",
   "execution_count": 141,
   "id": "4c3a4d2e",
   "metadata": {},
   "outputs": [
    {
     "data": {
      "text/html": [
       "<div>\n",
       "<style scoped>\n",
       "    .dataframe tbody tr th:only-of-type {\n",
       "        vertical-align: middle;\n",
       "    }\n",
       "\n",
       "    .dataframe tbody tr th {\n",
       "        vertical-align: top;\n",
       "    }\n",
       "\n",
       "    .dataframe thead th {\n",
       "        text-align: right;\n",
       "    }\n",
       "</style>\n",
       "<table border=\"1\" class=\"dataframe\">\n",
       "  <thead>\n",
       "    <tr style=\"text-align: right;\">\n",
       "      <th></th>\n",
       "      <th>Sim1</th>\n",
       "      <th>Sim2</th>\n",
       "      <th>Sim3</th>\n",
       "    </tr>\n",
       "  </thead>\n",
       "  <tbody>\n",
       "    <tr>\n",
       "      <th>ATE</th>\n",
       "      <td>0.25</td>\n",
       "      <td>0.25</td>\n",
       "      <td>0.25</td>\n",
       "    </tr>\n",
       "    <tr>\n",
       "      <th>Non-spatial</th>\n",
       "      <td>0.30</td>\n",
       "      <td>0.41</td>\n",
       "      <td>0.41</td>\n",
       "    </tr>\n",
       "    <tr>\n",
       "      <th>spatial</th>\n",
       "      <td>0.25</td>\n",
       "      <td>0.25</td>\n",
       "      <td>0.25</td>\n",
       "    </tr>\n",
       "  </tbody>\n",
       "</table>\n",
       "</div>"
      ],
      "text/plain": [
       "             Sim1  Sim2  Sim3\n",
       "ATE          0.25  0.25  0.25\n",
       "Non-spatial  0.30  0.41  0.41\n",
       "spatial      0.25  0.25  0.25"
      ]
     },
     "execution_count": 141,
     "metadata": {},
     "output_type": "execute_result"
    }
   ],
   "source": [
    "df.head()"
   ]
  },
  {
   "cell_type": "code",
   "execution_count": 142,
   "id": "8244c951",
   "metadata": {},
   "outputs": [],
   "source": [
    "# df.to_csv(\"data/backdoor_sim.csv\")"
   ]
  }
 ],
 "metadata": {
  "kernelspec": {
   "display_name": "Python 3",
   "language": "python",
   "name": "python3"
  },
  "language_info": {
   "codemirror_mode": {
    "name": "ipython",
    "version": 3
   },
   "file_extension": ".py",
   "mimetype": "text/x-python",
   "name": "python",
   "nbconvert_exporter": "python",
   "pygments_lexer": "ipython3",
   "version": "3.8.10"
  }
 },
 "nbformat": 4,
 "nbformat_minor": 5
}
