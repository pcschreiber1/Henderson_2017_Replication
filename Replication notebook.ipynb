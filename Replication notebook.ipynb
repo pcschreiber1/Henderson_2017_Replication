{
 "cells": [
  {
   "cell_type": "markdown",
   "id": "f4d1f4c9",
   "metadata": {},
   "source": [
    "--- \n",
    "Project for the course in Microeconometrics | Summer 2021, M.Sc. Economics, Bonn University | [Philipp Schreiber](https://github.com/pcschreiber1)\n",
    "\n",
    "# Replication of Henderson, Storeygard, Deichmann (2017) :\n",
    "## Has climate change driven urbanization in Africa? <a class=\"tocSkip\">   \n",
    "    \n",
    "    \n",
    "---"
   ]
  },
  {
   "cell_type": "markdown",
   "id": "b31f380e",
   "metadata": {},
   "source": [
    "<div class=\"alert alert-block alert-info\">\n",
    "    <h5><b>Downloading and viewing this notebook:</b></h5> <p> The original paper, as well as the data and code provided by the authors can be accessed <a href=\"https://doi.org/10.1016/j.jdeveco.2016.09.001\">here</a> </p></div>"
   ]
  },
  {
   "cell_type": "markdown",
   "id": "43d378d2",
   "metadata": {},
   "source": [
    "## Content:\n",
    "Extension: \n",
    " - Spatial SUTVA/ <span style=\"color:orange\">**NOTE**:</span> How large are the districts (important for whetehr SUTVA is reasonable or not)\n",
    " - Spatially explicit counterfactual framework\n",
    "     - using exploration of SUTVA and spatial patters\n",
    "         - spatial autocorrelation: Moran Plot and Moran's I\n",
    "     - implementing (lagged dependent, lagged "
   ]
  },
  {
   "cell_type": "code",
   "execution_count": 1,
   "id": "1094b859",
   "metadata": {},
   "outputs": [],
   "source": [
    "%matplotlib inline\n",
    "\n",
    "import pandas as pd\n",
    "import numpy as np\n",
    "import matplotlib.pyplot as plt\n",
    "import matplotlib.ticker\n",
    "import statsmodels.formula.api as smf\n",
    "import seaborn as sns\n",
    "\n",
    "#For spatial analysis\n",
    "import geopandas as gpd\n",
    "import shapely.geometry as geom\n",
    "import libpysal as lp #For spatial weights\n",
    "\n",
    "from pysal.viz import splot #exploratory analysis\n",
    "#from splot.esda import plot_moran #exploratory analysis\n",
    "from pysal.explore import esda #exploratory analysis\n",
    "from pysal.model import spreg #For spatial regression\n",
    "\n",
    "pd.options.display.float_format = \"{:,.2f}\".format"
   ]
  },
  {
   "cell_type": "code",
   "execution_count": null,
   "id": "9f870d34",
   "metadata": {},
   "outputs": [],
   "source": [
    "from auxiliary.data_import import *\n",
    "from auxiliary.plots import *"
   ]
  },
  {
   "cell_type": "code",
   "execution_count": 1,
   "id": "6a8f9d17",
   "metadata": {},
   "outputs": [
    {
     "ename": "NameError",
     "evalue": "name 'get_shapefile' is not defined",
     "output_type": "error",
     "traceback": [
      "\u001b[1;31m---------------------------------------------------------------------------\u001b[0m",
      "\u001b[1;31mNameError\u001b[0m                                 Traceback (most recent call last)",
      "\u001b[1;32m<ipython-input-1-859f9a3c7588>\u001b[0m in \u001b[0;36m<module>\u001b[1;34m\u001b[0m\n\u001b[0;32m      1\u001b[0m \u001b[1;31m#map_countries()\u001b[0m\u001b[1;33m\u001b[0m\u001b[1;33m\u001b[0m\u001b[1;33m\u001b[0m\u001b[0m\n\u001b[1;32m----> 2\u001b[1;33m \u001b[0mregiondata\u001b[0m \u001b[1;33m=\u001b[0m \u001b[0mget_shapefile\u001b[0m\u001b[1;33m(\u001b[0m\u001b[1;33m)\u001b[0m\u001b[1;33m\u001b[0m\u001b[1;33m\u001b[0m\u001b[0m\n\u001b[0m",
      "\u001b[1;31mNameError\u001b[0m: name 'get_shapefile' is not defined"
     ]
    }
   ],
   "source": [
    "#map_countries()\n",
    "regiondata = get_shapefile()"
   ]
  },
  {
   "cell_type": "code",
   "execution_count": null,
   "id": "27656c68",
   "metadata": {},
   "outputs": [],
   "source": [
    "# The explanatory variables of interest\n",
    "a = [\"ADsm0_1moistu\",\n",
    "     \"ADsm0_2moistu\",\n",
    "     \"ADsm0_3moistu\",\n",
    "     \"ADsm0_4moistu\",\n",
    "     \"extent_agE_ADsm0_2moistu\",\n",
    "     \"ADurbfrac\",\n",
    "     \"extent_agE\",\n",
    "     \"extent_agH\",\n",
    "     \"primate\"]"
   ]
  },
  {
   "cell_type": "markdown",
   "id": "61c6b561",
   "metadata": {},
   "source": [
    "---\n",
    "# 1. Introduction \n",
    "---"
   ]
  },
  {
   "cell_type": "markdown",
   "id": "709bb0aa",
   "metadata": {},
   "source": [
    "In this paper Henderson et al. investigate the impact of increasing aridity on urbanization in Sub-Saharan Africa. In particular, the authors address the questions of i) *whether adverse changes in climate induce a push from rural to urban areas* and ii) *how this within-country migration affects incomes in cities/ the nature of the development effect of such an urbanization push on cities*.  They attribute previous studies' lack of significant findings to aggregation due to using national level data and, therefore, use variation at the district and city level. In addition, they construct a new data set of actual census data to overcome the reliance on interpolations, including the use of **night time lights (NTLs)**.\n",
    "\n",
    "<img src=\"material/map_countries.PNG\" alt=\"Error: map_countries.png\" title=\"countries in the data set\" width=\"600\"/>\n",
    "\n",
    "The authors outline a simple model of rural-urban migration to frame their analysis of the impact of rising aridity. The model suggests ...\n",
    "<span style=\"color:red\">***Shorter*** </span> <span style=\"color:blue\">The authors model districs as small open economies which are differentiated by the presence of manufacturing facilities for potentially tradeable goods. In this context, a decline in moisture should only induce local migration in industrialized districts, since in exclusievly rural districts cities are only provide agriculture with services that not traded across districts, the local agricultural sector is not competing for labor.</span> This study employs **fixed effects (FE) regression** to account for all relevant influences. Finally, the authors support this by looking at evidence from India. The authors find strong evidence for the local migration, nut only in districts likely to produce tradable manufacturing goods. Similary, total income of local cities also only increases in districts liekly to produce tradable manufacturing goods. Understanding the patterns and effects of climate change on urbanization  is important both for providing assistance and to guide proactive policy. Africa projected to be especially affected by climate change ... Sucessful spatial and structural adaptation to climate change will critically depend on promoting cities' capacities.\n",
    "\n",
    "\n",
    "\n",
    "<span style=\"color:blue\">In this notebook, I replicate the results presented in the paper by Lindo et al. (2010). Furthermore, I discuss in detail the identification strategy used by the authors and evaluate the results using multiple robustness checks. My analysis offers general support for the findings of Lindo et al. (2010) and points out some factors which may enable a deeper understanding of the causal relationship explored in the paper. </span> In particular, I show that the SUTVA assumption is violated through spatial interdependence and **introduce a spatially explicity counterfactual model as an alternative**.\n",
    "\n",
    "<span style=\"color:blue\"> This notebook is structured as follows. In the next section, I present the performance standard model that lays down the theoretical framework for the paper (Section 2). In Section 3, I analyze the identification strategy that Lindo et al. (2010) use to unravel the causal effects of academic probation on student outcomes and Section 4 briefly discusses the empirical strategy the authors use for estimation. Section 5 and Section 6 constitute the core of this notebook. Section 5 shows my replication of the results in the paper and discussion thereof. In Section 6 I conduct various robustness checks and discuss some limitations of the paper. Section 7 offers some concluding remarks. </span>\n",
    "\n"
   ]
  },
  {
   "cell_type": "code",
   "execution_count": null,
   "id": "9dc95402",
   "metadata": {},
   "outputs": [],
   "source": []
  }
 ],
 "metadata": {
  "kernelspec": {
   "display_name": "Python 3",
   "language": "python",
   "name": "python3"
  },
  "language_info": {
   "codemirror_mode": {
    "name": "ipython",
    "version": 3
   },
   "file_extension": ".py",
   "mimetype": "text/x-python",
   "name": "python",
   "nbconvert_exporter": "python",
   "pygments_lexer": "ipython3",
   "version": "3.8.10"
  }
 },
 "nbformat": 4,
 "nbformat_minor": 5
}
