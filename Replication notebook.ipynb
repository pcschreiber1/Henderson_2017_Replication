{
 "cells": [
  {
   "cell_type": "markdown",
   "source": [
    "--- \n",
    "Project for the course in Microeconometrics | Summer 2021, M.Sc. Economics, Bonn University | [Philipp Schreiber](https://github.com/pcschreiber1)\n",
    "\n",
    "# Replication of Henderson, Storeygard, Deichmann (2017) :\n",
    "## Has climate change driven urbanization in Africa? <a class=\"tocSkip\">   \n",
    "    \n",
    "    \n",
    "---"
   ],
   "metadata": {}
  },
  {
   "cell_type": "markdown",
   "source": [
    "<div class=\"alert alert-block alert-info\">\n",
    "    <h5><b>Downloading and viewing this notebook:</b></h5> <p> The original paper, as well as the data and code provided by the authors can be accessed <a href=\"https://doi.org/10.1016/j.jdeveco.2016.09.001\">here</a> </p></div>"
   ],
   "metadata": {}
  },
  {
   "cell_type": "markdown",
   "source": [
    "## Content:\n",
    "Extension: \n",
    " - Spatial SUTVA/ <span style=\"color:orange\">**NOTE**:</span> How large are the districts (important for whetehr SUTVA is reasonable or not)\n",
    " - Spatially explicit counterfactual framework\n",
    "     - using exploration of SUTVA and spatial patters\n",
    "         - spatial autocorrelation: Moran Plot and Moran's I\n",
    "     - implementing (lagged dependent, lagged "
   ],
   "metadata": {}
  },
  {
   "cell_type": "code",
   "execution_count": 1,
   "source": [
    "%matplotlib inline\r\n",
    "\r\n",
    "import pandas as pd\r\n",
    "import numpy as np\r\n",
    "import matplotlib.pyplot as plt\r\n",
    "import matplotlib.ticker\r\n",
    "import statsmodels.formula.api as smf\r\n",
    "import seaborn as sns\r\n",
    "\r\n",
    "#For spatial analysis\r\n",
    "import geopandas as gpd\r\n",
    "import shapely.geometry as geom\r\n",
    "import libpysal as lp #For spatial weights\r\n",
    "\r\n",
    "from pysal.viz import splot #exploratory analysis\r\n",
    "#from splot.esda import plot_moran #exploratory analysis\r\n",
    "from pysal.explore import esda #exploratory analysis\r\n",
    "from pysal.model import spreg #For spatial regression\r\n",
    "\r\n",
    "pd.options.display.float_format = \"{:,.2f}\".format"
   ],
   "outputs": [],
   "metadata": {}
  },
  {
   "cell_type": "code",
   "execution_count": null,
   "source": [
    "from auxiliary.data_import import *\r\n",
    "from auxiliary.plots import *"
   ],
   "outputs": [],
   "metadata": {}
  },
  {
   "cell_type": "code",
   "execution_count": null,
   "source": [
    "#map_countries()"
   ],
   "outputs": [],
   "metadata": {}
  },
  {
   "cell_type": "code",
   "execution_count": null,
   "source": [
    "# The explanatory variables of interest\r\n",
    "a = [\"ADsm0_1moistu\",\r\n",
    "     \"ADsm0_2moistu\",\r\n",
    "     \"ADsm0_3moistu\",\r\n",
    "     \"ADsm0_4moistu\",\r\n",
    "     \"extent_agE_ADsm0_2moistu\",\r\n",
    "     \"ADurbfrac\",\r\n",
    "     \"extent_agE\",\r\n",
    "     \"extent_agH\",\r\n",
    "     \"primate\"]"
   ],
   "outputs": [],
   "metadata": {}
  }
 ],
 "metadata": {
  "kernelspec": {
   "display_name": "Python 3",
   "language": "python",
   "name": "python3"
  },
  "language_info": {
   "codemirror_mode": {
    "name": "ipython",
    "version": 3
   },
   "file_extension": ".py",
   "mimetype": "text/x-python",
   "name": "python",
   "nbconvert_exporter": "python",
   "pygments_lexer": "ipython3",
   "version": "3.8.8"
  }
 },
 "nbformat": 4,
 "nbformat_minor": 5
}