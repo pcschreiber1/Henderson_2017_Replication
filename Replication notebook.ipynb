{
 "cells": [
  {
   "cell_type": "markdown",
   "id": "e8011fe0",
   "metadata": {},
   "source": [
    "--- \n",
    "Project for the course in Microeconometrics | Summer 2021, M.Sc. Economics, Bonn University | [Philipp Schreiber](https://github.com/pcschreiber1)\n",
    "\n",
    "# Replication of Henderson, Storeygard, Deichmann (2017) :\n",
    "## Has climate change driven urbanization in Africa? <a class=\"tocSkip\">   \n",
    "    \n",
    "    \n",
    "---"
   ]
  },
  {
   "cell_type": "markdown",
   "id": "8a300cd0",
   "metadata": {},
   "source": [
    "<div class=\"alert alert-block alert-info\">\n",
    "    <h5><b>Downloading and viewing this notebook:</b></h5> <p> The original paper, as well as the data and code provided by the authors can be accessed <a href=\"https://doi.org/10.1016/j.jdeveco.2016.09.001\">here</a> </p></div>"
   ]
  },
  {
   "cell_type": "markdown",
   "id": "4d15b5e8-aa2a-47b6-a807-5cd8ae03ddf8",
   "metadata": {},
   "source": [
    "## Content:\n",
    "Extension: \n",
    " - Spatial SUTVA/ <span style=\"color:orange\">**NOTE**:</span> How large are the districts (important for whetehr SUTVA is reasonable or not)\n",
    " - Spatially explicit counterfactual framework\n",
    "     - using exploration of SUTVA and spatial patters\n",
    "         - spatial autocorrelation: Moran Plot and Moran's I\n",
    "     - implementing (lagged dependent, lagged "
   ]
  },
  {
   "cell_type": "code",
   "execution_count": 1,
   "id": "d88e96bc",
   "metadata": {},
   "outputs": [],
   "source": [
    "%matplotlib inline\n",
    "\n",
    "import pandas as pd\n",
    "import numpy as np\n",
    "import matplotlib.pyplot as plt\n",
    "import matplotlib.ticker\n",
    "import statsmodels.formula.api as smf\n",
    "import seaborn as sns\n",
    "\n",
    "#For spatial analysis\n",
    "import geopandas as gpd\n",
    "import shapely.geometry as geom\n",
    "import libpysal as lp #For spatial weights\n",
    "# #from pysal.viz import splot #exploratory analysis\n",
    "# from splot.esda import plot_moran #exploratory analysis\n",
    "# from pysal.explore import esda #exploratory analysis\n",
    "# from pysal.model import spreg #For spatial regression\n",
    "# \n",
    "# pd.options.display.float_format = \"{:,.2f}\".format"
   ]
  }
 ],
 "metadata": {
  "kernelspec": {
   "display_name": "Python 3",
   "language": "python",
   "name": "python3"
  },
  "language_info": {
   "codemirror_mode": {
    "name": "ipython",
    "version": 3
   },
   "file_extension": ".py",
   "mimetype": "text/x-python",
   "name": "python",
   "nbconvert_exporter": "python",
   "pygments_lexer": "ipython3",
   "version": "3.8.8"
  }
 },
 "nbformat": 4,
 "nbformat_minor": 5
}
