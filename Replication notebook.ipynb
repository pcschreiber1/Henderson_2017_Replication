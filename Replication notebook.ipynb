{
 "cells": [
  {
   "cell_type": "markdown",
   "id": "f4d1f4c9",
   "metadata": {},
   "source": [
    "--- \n",
    "Project for the course in Microeconometrics | Summer 2021, M.Sc. Economics, Bonn University | [Philipp Schreiber](https://github.com/pcschreiber1)\n",
    "\n",
    "# Replication of Henderson, Storeygard, Deichmann (2017) :\n",
    "## Has climate change driven urbanization in Africa? <a class=\"tocSkip\">   \n",
    "    \n",
    "    \n",
    "---"
   ]
  },
  {
   "cell_type": "markdown",
   "id": "b31f380e",
   "metadata": {},
   "source": [
    "<div class=\"alert alert-block alert-info\">\n",
    "    <h5><b>Downloading and viewing this notebook:</b></h5> <p> The original paper, as well as the data and code provided by the authors can be accessed <a href=\"https://doi.org/10.1016/j.jdeveco.2016.09.001\">here</a> </p></div>"
   ]
  },
  {
   "cell_type": "markdown",
   "id": "43d378d2",
   "metadata": {},
   "source": [
    "## Content:\n",
    "Extension: \n",
    " - Spatial SUTVA/ <span style=\"color:orange\">**NOTE**:</span> How large are the districts (important for whetehr SUTVA is reasonable or not)\n",
    " - Spatially explicit counterfactual framework\n",
    "     - using exploration of SUTVA and spatial patters\n",
    "         - spatial autocorrelation: Moran Plot and Moran's I\n",
    "     - implementing (lagged dependent, lagged "
   ]
  },
  {
   "cell_type": "code",
   "execution_count": 1,
   "id": "1094b859",
   "metadata": {},
   "outputs": [],
   "source": [
    "%matplotlib inline\n",
    "\n",
    "import pandas as pd\n",
    "import numpy as np\n",
    "import matplotlib.pyplot as plt\n",
    "import matplotlib.ticker\n",
    "import statsmodels.formula.api as smf\n",
    "import seaborn as sns\n",
    "\n",
    "#For spatial analysis\n",
    "import geopandas as gpd\n",
    "import shapely.geometry as geom\n",
    "import libpysal as lp #For spatial weights\n",
    "\n",
    "from pysal.viz import splot #exploratory analysis\n",
    "#from splot.esda import plot_moran #exploratory analysis\n",
    "from pysal.explore import esda #exploratory analysis\n",
    "from pysal.model import spreg #For spatial regression\n",
    "\n",
    "pd.options.display.float_format = \"{:,.2f}\".format"
   ]
  },
  {
   "cell_type": "code",
   "execution_count": null,
   "id": "9f870d34",
   "metadata": {},
   "outputs": [],
   "source": [
    "from auxiliary.data_import import *\n",
    "from auxiliary.plots import *"
   ]
  },
  {
   "cell_type": "code",
   "execution_count": 1,
   "id": "6a8f9d17",
   "metadata": {},
   "outputs": [],
   "source": [
    "#map_countries()"
   ]
  },
  {
   "cell_type": "code",
   "execution_count": null,
   "id": "27656c68",
   "metadata": {},
   "outputs": [],
   "source": [
    "# The explanatory variables of interest\n",
    "a = [\"ADsm0_1moistu\",\n",
    "     \"ADsm0_2moistu\",\n",
    "     \"ADsm0_3moistu\",\n",
    "     \"ADsm0_4moistu\",\n",
    "     \"extent_agE_ADsm0_2moistu\",\n",
    "     \"ADurbfrac\",\n",
    "     \"extent_agE\",\n",
    "     \"extent_agH\",\n",
    "     \"primate\"]"
   ]
  },
  {
   "cell_type": "markdown",
   "id": "b69337dd",
   "metadata": {},
   "source": [
    "---\n",
    "# 1. Introduction \n",
    "---"
   ]
  },
  {
   "cell_type": "markdown",
   "id": "1f4a8938",
   "metadata": {},
   "source": [
    "In this paper Henderson et al. investigate the impact of increasing aridity on urbanization in Sub-Saharan Africa. In particular, the authors address the questions of i) *whether adverse changes in climate induce a push from rural to urban areas* and ii) *how this within-country migration affects incomes in cities/ the nature of the development effect of such an urbanization push on cities*.  They attribute previous studies' lack of significant findings to aggregation due to using national level data and, therefore, use variation at the district and city level. In addition, they construct a new data set of actual census data to overcome the reliance on interpolations, including the use of **night time lights (NTLs)**.\n",
    "\n",
    "<img src=\"material/map_countries.PNG\" alt=\"Error: map_countries.png\" title=\"countries in the data set\" width=\"600\"/>\n",
    "\n",
    "The authors outline a simple model of rural-urban migration to frame their analysis of the impact of rising aridity. The model suggests ...\n",
    "<span style=\"color:red\">***Shorter*** </span> <span style=\"color:blue\">The authors model districs as small open economies which are differentiated by the presence of manufacturing facilities for potentially tradeable goods. In this context, a decline in moisture should only induce local migration in industrialized districts, since in exclusievly rural districts cities are only provide agriculture with services that not traded across districts, the local agricultural sector is not competing for labor.</span> This study employs **fixed effects (FE) regression** to account for all relevant influences. Finally, the authors support this by looking at evidence from India. The authors find strong evidence for the local migration, nut only in districts likely to produce tradable manufacturing goods. Similary, total income of local cities also only increases in districts liekly to produce tradable manufacturing goods. Understanding the patterns and effects of climate change on urbanization  is important both for providing assistance and to guide proactive policy. Africa projected to be especially affected by climate change ... Sucessful spatial and structural adaptation to climate change will critically depend on promoting cities' capacities.\n",
    "\n",
    "\n",
    "\n",
    "<span style=\"color:blue\">In this notebook, I replicate the results presented in the paper by Lindo et al. (2010). Furthermore, I discuss in detail the identification strategy used by the authors and evaluate the results using multiple robustness checks. My analysis offers general support for the findings of Lindo et al. (2010) and points out some factors which may enable a deeper understanding of the causal relationship explored in the paper. </span> In particular, I show that the SUTVA assumption is violated through spatial interdependence and **introduce a spatially explicity counterfactual model as an alternative**.\n",
    "\n",
    "<span style=\"color:blue\"> This notebook is structured as follows. In the next section, I present the performance standard model that lays down the theoretical framework for the paper (Section 2). In Section 3, I analyze the identification strategy that Lindo et al. (2010) use to unravel the causal effects of academic probation on student outcomes and Section 4 briefly discusses the empirical strategy the authors use for estimation. Section 5 and Section 6 constitute the core of this notebook. Section 5 shows my replication of the results in the paper and discussion thereof. In Section 6 I conduct various robustness checks and discuss some limitations of the paper. Section 7 offers some concluding remarks. </span>\n",
    "\n"
   ]
  },
  {
   "cell_type": "markdown",
   "id": "55ef7cc1",
   "metadata": {},
   "source": [
    "---\n",
    "# 2. Theoretical Background/ Literature\n",
    "---"
   ]
  },
  {
   "cell_type": "markdown",
   "id": "6e021b70",
   "metadata": {},
   "source": [
    "<span style=\"color:red\">***What should be discussed here?*** </span>\n",
    "<ul type=\"circle\">  \n",
    " <li > <span style=\"color:blue\"> What the literature says about this issues </span> </li>  \n",
    " <li> <span style=\"color:blue\">  How urban migration and migration in the context of climate change has been studied </span> </li>  \n",
    "</ul>\n",
    "\n",
    "<span style=\"color:red\">***Urban Models*** </span> <span style=\"color:blue\"> \n",
    "     Mentioned in Henderson et al. 2017: (Duranton and Puga, 2004), (Desmet and Henderson, 2015)  \n",
    "     Moreover: One of the earlier papers by henderson on urban model (Black and Henderson, 1999) </span> "
   ]
  },
  {
   "cell_type": "markdown",
   "id": "c192c29b",
   "metadata": {},
   "source": [
    "---\n",
    "# 3. Data\n",
    "---"
   ]
  },
  {
   "cell_type": "markdown",
   "id": "0e75116c",
   "metadata": {},
   "source": [
    "In what follows I present the data. A study of 29 countries over the span ?30? years with subnational data require a sophisticated data set. For further detail, refer to the appendix of the original paper.\n",
    "\n",
    "<h3><u>3.1 Urbanization</u></h3>\n",
    "(urbanization over 10-15 years as a function of climate chnage over those years)\n",
    "\n",
    "Most studies employ **population data** from infrequente national census reports and rely heavily on imputations and interpolations. This study includes countries with at least two available censuses with the relevant information for a complete or nearly complete set of sub-national units, where either district boundaries changed little or common units over time can be defined. The authors digitized data from hardycopy census publications. Of the 32 countries, Namibia, Congo-Brazzaville and Liberia were dropped due to issues of district definition or census frequency. The 29 remaining countries count between 2 to 5 censuses between 1960 and 2019. For estimation purposes Kenya is treated as two countries before and after the urban redefinition of the 1990s. While extensive, the sample omits several Sub-Saharan countries, most notably Nigeria, the most populous country on the continent. The countries were omitted either because the censuses did not include the needed information or printed volumes were unavailable. South Africa was excluded because of Post-Apartheid migration. Districs are large ... <span style=\"color:blue\"> Need to explicitly say how \"urban population\" is measured. </span>\n",
    "\n",
    "In contrast, high quality **climate data** is much more readily available. To reflect climatic agricultural potential the authors use precipitation over potential evapotranspiration (i.e. system supply over system demand) as a moisture index. The precipitation and temperature data is available from the University of Delaware gridded climate data set while PET is estimated using the Thornthwaite method. The district level climate indicator is then the average grid cell value that overlaps with the corresponding sub-national unit where cells that cross the boundary are weighted.\n",
    "\n",
    "Sub-national **data on industrialization** is scarce in many census reports - before 1985 this is even true for national level indicators. Henderson et al. draw on the *Oxford Regional Economic Atlas, Africa* (Ady, 1965) which map all industries by type and city location, based on an in-depth analysis from a variety of sources from the late 1950s and early 1960s. From the total 26 industries the authors exclude 10 agricultural processing industries (e.g. brewing, milling) and use the count of different industries as the industrialization indicator. The full 26 industries have been used in robustness checks.\n",
    "\n",
    "<h3><u>3.2 Income</u></h3>\n",
    "(impact of annual climate fluctuations on annual city incomes and implied (possibly short-term) migration)\n",
    "\n",
    "Due to the lack of consistently available **data on total city income**, **night time lights (NTLs)** are used as a proxy. The authors use annual average data from 1992 to 2008 using data from the U.S. Defense Meteorological Satellite Program (DMSP). As is typical in socioeconomic analysis, clouds and rainfally are excluded and only stable light sources are included. City income is then mapped as the sum of the light intensity of every pixel in the outer envelope. For further information on the use of NTLs see ... .  <span style=\"color:red\">***Also*** </span> <span style=\"color:blue\"> Established strong connection NTL and Henderson, Storeygard, and Weil (2012) was one of the first to formally test the relationship between changes in lights and economic growth</span> \n",
    "\n",
    "Since traditional **climate indexes** such as the moisture index are not available at such fine resolutions, rainfall is used instead. The data is used from the Rainfall Climatology Version 2, which combines weather station data with satellity information. Each city's hinterland annual average rainfall is then the average of grid-cell values within 30km of the ever-lit area. Since the moisture index split the sample almost evenly, \"we calculate average near-city rainfall between 1983 (the first year in the data) and 1991, and split at the sample median\".\n"
   ]
  },
  {
   "cell_type": "markdown",
   "id": "003d5939",
   "metadata": {},
   "source": [
    "---\n",
    "# 4. Identification\n",
    "--- "
   ]
  },
  {
   "cell_type": "markdown",
   "id": "230ea01e",
   "metadata": {},
   "source": [
    "Disaggregated data for such an extended period of time is extremely scarce, hence the analysis can only rely on a few key variables. As the authors explain, the income study can almost be seen as a robustness check of whether migration is really driving the effect here.\n",
    "\n",
    "(The biggest threat that the authors are concerned about are unobserved confounders.)\n",
    "\n",
    "(Identification issues with proxies as \"collider variables\" (SUTVA paper Yale) -> problematic for NTLs?)\n",
    "Hence, consider the following tree: (showing a fixed effect appropriate tree)"
   ]
  },
  {
   "cell_type": "code",
   "execution_count": null,
   "id": "3fea8f8f",
   "metadata": {},
   "outputs": [],
   "source": [
    "#import the data\n",
    "regiondata = get_spatialdata()"
   ]
  },
  {
   "cell_type": "code",
   "execution_count": null,
   "id": "ddfef663",
   "metadata": {},
   "outputs": [],
   "source": [
    "sns.set_theme(style='whitegrid')\n",
    "sns.histplot(x=regiondata['ADurbfrac'], kde=True)\n",
    "_ = sns.pairplot(regiondata[a], kind='reg', diag_kind='kde')"
   ]
  },
  {
   "cell_type": "markdown",
   "id": "67b5f7f3",
   "metadata": {},
   "source": [
    "<h3><u>4.1 Fixed Effecs</u></h3>"
   ]
  },
  {
   "cell_type": "markdown",
   "id": "f1130438",
   "metadata": {},
   "source": [
    "Consider the following \n",
    "\n",
    "In the social science literature, two-way fixed effects (2FE) are extremely popular tools for accounting for both unit-specific (but time-invariant) and time-specific (but unit-invariant) *unobserved* confounders in a flexible manner. However, as Imai and Kim (2020) illustrate, their application requires careful consideration of the identification assumptions: besides the assumption of additivity and seperability of the unobserved variables, it also critically relies on the linearity of their effects. Moreover, the authors call into question 2FE's attractive connection to the explicitly causal framework fo difference-in-difference (DiD) and conclude that \"the general multi-period DiD estimator is equivalent to the weighted two-way fixed effects regression estimator, but some oberservations have invalid (i.e.) negative weights\" (p.9).\n",
    "\n",
    "<img src=\"material/2FE_DAG_1.PNG\" alt=\"Error: 2FE_DAG_1\" style=\"width: 700;\"/>"
   ]
  },
  {
   "cell_type": "markdown",
   "id": "401595dc",
   "metadata": {},
   "source": [
    "In the context of the present study, some unobserved covariates that immediately come to mind are local culture, developments in infrastructure and the green revolution in agricultural production. These are all effects which can be accounted for using time and unit fixed effects\n",
    "\n",
    "The most serious challenge to the 2FE specification concerns the industry data. While the presence of industry is supposed to be the key determinant of the effect of a decrease in moisture, we only observe a snapshot from the 1960s level. Hence, the analysis critically relies on the assumption that 1960s levels of industrialization are representative for the whole period. In relation to the 2FE regression, this means that the local industrial development was linear and only influenced by local constants and global pushes. In particular, this neglects the presence of a vast amount of natioanl and sub-national industrialization policies. Neither can the 2FE specification capture the effect of local policies directly related to urban development and migration.\n",
    "\n",
    "These are probably the most pressing difficulties. However, while not explicitly discussed in the paper, there are two mitigating strategies the authors chose. Firstly, in particular with regards to heterogeneity from local migration policies, the authors filtered-out countries with prominent policies, such South Africa. Secondly, due to the large sample size an argument can be made that the potential bias from local policies is averaged out in the sample.\n",
    "\n",
    "However, there is another identification challenge which is only recently receiving increased attention: independence of observed units. Spatial dependence and it's implications for SUTVA are discussed now."
   ]
  },
  {
   "cell_type": "markdown",
   "id": "ead5a6dd",
   "metadata": {},
   "source": [
    "<h3><u>4.2 Spatial Effects (Extension)</u></h3>"
   ]
  },
  {
   "cell_type": "markdown",
   "id": "92bf06dd",
   "metadata": {},
   "source": [
    "For a valid estimation of the treatment effect, the potential outcome model relies on the assumption of Stable Unit Treamtent Variance (**SUTVA**). Albeit there exist different formulations, SUTVA essentially requires that i) *there are no different versions of treatment* and ii) *that units not be affected by the treatment status of other units* (Rubin, 1986). This second condition means that **the presence of spill-over and general equilibrium effects needs to be ruled out by the researcher** (see Cunnigham, 2021). To illustrate this in the context of Henderson et al., consider the DAG below: the causal processes of two units are not connected.\n",
    "\n",
    "<img src=\"material/Spatial_DAG_colour_2.PNG\" alt=\"Error: Should Display spatial DAG colour 1\" style=\"width: 700;\"/>\n",
    "\n",
    "However, as already hinted at above, in many cases we might find this assumption of no spill-overs hard to defend. Indeed, Tobler's first law of geography asserts that \"everything interacts with everything, but two nearby objects are more likely to do so than two distant objects\". These spatial effects are frequently divided into **spatial dependency** (autocorrelation, spill-overs, etc.) and **spatial non-stationarity** (heterogeneity of effects), but the distinction is not always clear-cut and the two can interact (for more, see Anselin, 1988).\n",
    "\n",
    "A common strategy for maintaining SUTVA is spatially aggregating data (see Imbens and Rubin 2015; Morgan and Winship 2014). While popular, it is evident that this \"non-strategy\" directly undermines the added-value of disaggregated data. Translating this to the present study, the issue is whether districts can really be believed to be independent open economies. While the authors admit that there is considerable cross-country variability, they argue that on average districts are \"large. But as can be seen from the histogram below, the distribution is indeed very skewed - with few enormous districts strongly inflating the average. Indeed, more than half of the districts are smaller than $12.000 \\:km^2$, which roughly corresponds to the size of Northern Ireland or Montenegro. This, however, significantly undermines the plausibility of \"no-spillover effects\". \n",
    "\n",
    "As Kolak and Anselin (2019) point out, this highlights a more fundamental problem - in many disaggregated, spatially-motivated analyses, *SUTVA is incomaptible with the dynamics of interest*, namely the interplay of disaggregated communities. For that reason, Kolak and Anselin seek to set the foundation of a **spatially explicit counterfactual framework**, arguing that an \"explicitly spatial perspective of the counterfactual framework considers spatial effects in the structure of the research design and assesses their influence on assignment and on the final treatment effect evaluation\" (p.130). And while they provide few practical guidelines, the authors explain that this \"also requires controlling for violations of the assumption of independence between observations and outcomes, in combination with spatial effects, that is, SD (spillover effects) and SH (different responses in different contexts)\" (p.130). Here Castner et al.'s (2014) insight that, in disaggregated data, there exists a \"fundamental trade-off between SUTVA and ignorability\" (p.9) reveals at least one possible entry point for making the counterfactual spatial: breaking down the distinction between SUTVA and ignorability. Rather than clinging to the SUTVA assumption, the interaction effects need to be carefully examined as part of the identification procedure. Importantly, just like in the traditional case, our believed specification will determine what kind of questions we can ask with the data available.\n",
    "\n",
    "<img src=\"material/Spatial_DAG_subgraphs.PNG\" alt=\"Error: Should Display spatial DAG subgraphs\" style=\"width: 700;\"/>\n",
    "\n",
    "Consider the above DAGs. In the simplest case, we might believe that the only connection between the units is a spill-over effect on the dependent variable $Y$. In \n",
    "\n",
    "**We have an issue if we cannot block the back-door paths created by the interdependence.**"
   ]
  },
  {
   "cell_type": "markdown",
   "id": "1009893f",
   "metadata": {},
   "source": [
    "In order to understand whether in the present study we can exploit the structure of spatial dependence to make identification feasible, we first need to better grasp the spatial patterns which are present here:"
   ]
  },
  {
   "cell_type": "code",
   "execution_count": null,
   "id": "0860bc41",
   "metadata": {},
   "outputs": [],
   "source": [
    "#------------------------------------------------------\n",
    "#---  Analysing district sizes   ----------------------\n",
    "#------------------------------------------------------\n",
    "regiondata[[\"iso3v10\", \"province\", \"areasqkm\"]].describe()"
   ]
  },
  {
   "cell_type": "code",
   "execution_count": null,
   "id": "d5a774c8",
   "metadata": {},
   "outputs": [],
   "source": [
    "n_bins = 25\n",
    "\n",
    "fig, ax = plt.subplots(figsize=(8, 5))\n",
    "sns.set_theme(style='whitegrid')\n",
    "g = sns.histplot(ax=ax, x=regiondata['areasqkm'], bins=n_bins, kde=True)\n",
    "g.get_xaxis().set_major_formatter(matplotlib.ticker.FuncFormatter(lambda x, p: format(int(x), ',')))"
   ]
  },
  {
   "cell_type": "markdown",
   "id": "6f671ece",
   "metadata": {},
   "source": [
    "<h4 style=\"color:SlateGray;\">Exploring Spatial Patterns</h4>\n",
    "\n",
    "The climate \"naturally\" generates spatial patterns in the sense that \"if location A is sufficiently close to location B, then A will very likely experience a similar climate\". We refer to this as **positive spatial autocorrelation**. <span style=\"color:red\"> However, if we still block the back-door paths, we don't have a problem </span>. \n",
    "\n",
    "A *chloropeth graph* helps us explore the nature of the spatial patterns."
   ]
  },
  {
   "cell_type": "code",
   "execution_count": null,
   "id": "a0e7130c",
   "metadata": {},
   "outputs": [],
   "source": [
    "#------------------------------------------------------\n",
    "#---  Analysing pattern of interdependence ------------\n",
    "#------------------------------------------------------\n",
    "\n",
    "#Get spatial data\n",
    "districts, coast = get_shapefile()"
   ]
  },
  {
   "cell_type": "code",
   "execution_count": null,
   "id": "5c96f29a",
   "metadata": {},
   "outputs": [],
   "source": [
    "f, axs = plt.subplots(nrows=3, ncols=3, figsize=(12, 12))\n",
    "axs = axs.flatten()# Make the axes accessible with single indexing\n",
    "\n",
    "# Start a loop over all the variables of interest\n",
    "for i, col in enumerate(a):\n",
    "    # select the axis where the map will go\n",
    "    ax = axs[i]\n",
    "    # Plot the map\n",
    "    districts.plot(column=col, ax=ax, scheme='Quantiles', linewidth=0, cmap='RdPu')\n",
    "    # Remove axis clutter\n",
    "    coast.boundary.plot(ax=ax, color='grey')\n",
    "    ax.set_axis_off()\n",
    "    # Set the axis title to the name of variable being plotted\n",
    "    ax.set_title(col)\n",
    "# Display the figure\n",
    "plt.show()"
   ]
  }
 ],
 "metadata": {
  "kernelspec": {
   "display_name": "Python 3",
   "language": "python",
   "name": "python3"
  },
  "language_info": {
   "codemirror_mode": {
    "name": "ipython",
    "version": 3
   },
   "file_extension": ".py",
   "mimetype": "text/x-python",
   "name": "python",
   "nbconvert_exporter": "python",
   "pygments_lexer": "ipython3",
   "version": "3.8.10"
  }
 },
 "nbformat": 4,
 "nbformat_minor": 5
}
